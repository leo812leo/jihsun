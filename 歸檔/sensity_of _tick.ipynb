{
 "cells": [
  {
   "cell_type": "code",
   "execution_count": 1,
   "metadata": {},
   "outputs": [],
   "source": [
    "import numpy as np\n",
    "import scipy.stats as st\n",
    "import matplotlib.pyplot as plot\n",
    "import ipywidgets as widgets"
   ]
  },
  {
   "cell_type": "code",
   "execution_count": 2,
   "metadata": {},
   "outputs": [],
   "source": [
    "#------------------fundental function----------------------------#\n",
    "def table_tick_s(s):\n",
    "    if s<10:\n",
    "        tick=0.01\n",
    "    elif 10<=s<50:\n",
    "        tick=0.05\n",
    "    elif 50<=s<100:\n",
    "        tick=0.1\n",
    "    elif 100<=s<500:\n",
    "        tick=0.5        \n",
    "    elif 500<=s<1000:\n",
    "        tick=1      \n",
    "    elif s>=1000:\n",
    "        tick=5\n",
    "    return tick\n",
    "def table_tick_w(s):\n",
    "    if s<5:\n",
    "        tick=0.01\n",
    "    elif 5<=s<10:\n",
    "        tick=0.05\n",
    "    elif 10<=s<50:\n",
    "        tick=0.1\n",
    "    elif 50<=s<100:\n",
    "        tick=0.5        \n",
    "    elif 100<=s<500:\n",
    "        tick=1      \n",
    "    elif s>=500:\n",
    "        tick=5  \n",
    "    return tick\n",
    "def d1_cal(s,k,r,sigma,t):\n",
    "    d1=(np.log(s/k)+(r+0.5*sigma**2)*t)/(sigma*np.sqrt(t))\n",
    "    return d1\n",
    "def d2_cal(d1,sigma,t):\n",
    "    d2=d1-sigma*np.sqrt(t)\n",
    "    return d2\n",
    "def N_cal(x):\n",
    "    N=st.norm.cdf(x,scale=1)    \n",
    "    return N\n",
    "def dN(X):\n",
    "    dN=st.norm.pdf(X,scale = 1) \n",
    "    return dN\n",
    "#------------------fundental----------------------------#\n",
    "def c_cal(s,k,r,sigma,t):\n",
    "    d1=d1_cal(s,k,r,sigma,t)\n",
    "    d2=d2_cal(d1,sigma,t)\n",
    "    N1=N_cal(d1)\n",
    "    N2=N_cal(d2)\n",
    "    c=s*N1-k*np.exp(-r*t)*N2\n",
    "    return c \n",
    "\n",
    "def delta_cal(s,k,r,sigma,t):\n",
    "    d1=d1_cal(s,k,r,sigma,t)\n",
    "    N1=N_cal(d1)\n",
    "    delta=np.exp(-r*t)*N1 \n",
    "    return delta\n",
    "\n",
    "def delta_w_cal(s,k,r,sigma,t,ratio):\n",
    "    w=c_cal(s,k,r,sigma,t)*ratio\n",
    "    tick_s=np.array([table_tick_s(ss) for ss in s]);tick_w=np.array([table_tick_w(ww) for ww in w]) \n",
    "    delta_w=(delta_cal(s,k,r,sigma,t)*ratio) * tick_s / tick_w\n",
    "    return delta_w\n",
    "\n",
    "def delta_x_cal(s,k,r,sigma,t,ratio):\n",
    "    w=c_cal(s,k,r,sigma,t)*ratio\n",
    "    tick_w=np.array([table_tick_w(ww) for ww in w]) \n",
    "    delta_x= (delta_cal(s,k,r,sigma,t)*ratio) * s*3/1000  \\\n",
    "    /(tick_w*w)\n",
    "    return delta_x"
   ]
  },
  {
   "cell_type": "code",
   "execution_count": 3,
   "metadata": {},
   "outputs": [],
   "source": [
    "def total_function(s_start,s_end,k,sigma,t1,ratio):\n",
    "    r=0.008 ; pc='c';t=t1/252\n",
    "    s=np.arange(s_start,s_end,0.5)\n",
    "    c=c_cal(s,k,r,sigma,t)*ratio\n",
    "    delta=delta_cal(s,k,r,sigma,t)\n",
    "    delta_x=delta_x_cal(s,k,r,sigma,t,ratio)\n",
    "    delta_w=delta_w_cal(s,k,r,sigma,t,ratio)\n",
    "    sum_tick=delta_x+delta_w\n",
    "  \n",
    "    \n",
    "    fig, axes = plot.subplots(3, 1, figsize=(16,10))\n",
    "    axes[0].plot((s-k)/k*100,delta_x, label='$\\Delta$x')\n",
    "    axes[0].plot((s-k)/k*100,delta_w+delta_x, label='$\\Delta$w')\n",
    "    axes[0].set_ylabel('sum of resonable ticks')\n",
    "    axes[0].legend(loc='upper right')\n",
    "    \n",
    "    axes[1].plot((s-k)/k*100,c)\n",
    "    axes[1].plot((s-k)/k*100,[5]*len(s), label='5')\n",
    "    axes[1].plot((s-k)/k*100,[10]*len(s), label='10')\n",
    "    axes[1].set_ylabel('warrant_price')\n",
    "    axes[1].legend(loc='upper right')\n",
    "    \n",
    "    axes[2].plot((s-k)/k*100,s)\n",
    "    axes[2].plot((s-k)/k*100,[50]*len(s), label='50')\n",
    "    axes[2].plot((s-k)/k*100,[100]*len(s), label='100')\n",
    "    axes[2].set_ylabel('spot_price')\n",
    "    axes[2].legend(loc='upper right')\n",
    "    plot.xlabel('spot',size='30')"
   ]
  },
  {
   "cell_type": "code",
   "execution_count": 4,
   "metadata": {},
   "outputs": [
    {
     "data": {
      "application/vnd.jupyter.widget-view+json": {
       "model_id": "9c075a1329df4241a7cbb5972f7ee822",
       "version_major": 2,
       "version_minor": 0
      },
      "text/plain": [
       "interactive(children=(FloatSlider(value=80.0, description='s_start', max=130.0, min=80.0, step=1.0), FloatSlid…"
      ]
     },
     "metadata": {},
     "output_type": "display_data"
    },
    {
     "data": {
      "text/plain": [
       "<function __main__.total_function(s_start, s_end, k, sigma, t1, ratio)>"
      ]
     },
     "execution_count": 4,
     "metadata": {},
     "output_type": "execute_result"
    }
   ],
   "source": [
    "widgets.interact(total_function, \n",
    "    s_start=widgets.FloatSlider(min=80, max=130, step=1, value=80),\n",
    "    s_end=widgets.FloatSlider(min=80, max=130, step=1, value=130),    \n",
    "    k=widgets.FloatSlider(min=80, max=130, step=1, value=100),  \n",
    "    sigma=widgets.FloatSlider(min=0, max=1, step=0.01, value=0.5),\n",
    "    ratio=widgets.FloatSlider(min=0, max=1, step=0.01, value=0.5),             \n",
    "    t1=widgets.FloatSlider(min=0, max=180, step=1, value=60)  \n",
    "    )\n"
   ]
  },
  {
   "cell_type": "code",
   "execution_count": null,
   "metadata": {},
   "outputs": [],
   "source": []
  }
 ],
 "metadata": {
  "kernelspec": {
   "display_name": "Python 3",
   "language": "python",
   "name": "python3"
  },
  "language_info": {
   "codemirror_mode": {
    "name": "ipython",
    "version": 3
   },
   "file_extension": ".py",
   "mimetype": "text/x-python",
   "name": "python",
   "nbconvert_exporter": "python",
   "pygments_lexer": "ipython3",
   "version": "3.7.3"
  }
 },
 "nbformat": 4,
 "nbformat_minor": 2
}
